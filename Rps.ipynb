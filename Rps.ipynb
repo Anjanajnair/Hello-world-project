{
  "nbformat": 4,
  "nbformat_minor": 0,
  "metadata": {
    "colab": {
      "name": "Rps.ipynb",
      "provenance": [],
      "collapsed_sections": []
    },
    "kernelspec": {
      "name": "python3",
      "display_name": "Python 3"
    },
    "language_info": {
      "name": "python"
    }
  },
  "cells": [
    {
      "cell_type": "code",
      "execution_count": null,
      "metadata": {
        "id": "-Y_i5_kyajZo",
        "colab": {
          "base_uri": "https://localhost:8080/"
        },
        "outputId": "ec83e67a-e0d8-4934-d82d-1443a3806286"
      },
      "outputs": [
        {
          "output_type": "stream",
          "name": "stdout",
          "text": [
            "type 1 to start\n",
            "1\n",
            "type 1 or 2 or 3\n",
            "1.rock\n",
            "2.paper\n",
            "3.scissors\n",
            "2\n",
            "rock\n",
            "user wins\n",
            "comp_score= 0 user_score= 1\n",
            "type 1 or 2 or 3\n",
            "1.rock\n",
            "2.paper\n",
            "3.scissors\n",
            "1\n",
            "paper\n",
            "user wins\n",
            "comp_score= 0 user_score= 2\n",
            "type 1 or 2 or 3\n",
            "1.rock\n",
            "2.paper\n",
            "3.scissors\n",
            "3\n",
            "paper\n",
            "user wins\n",
            "comp_score= 0 user_score= 3\n",
            "USER WON\n"
          ]
        }
      ],
      "source": [
        "import random\n",
        "def rockpaperscissors(c,u):\n",
        "  comp_score=0\n",
        "  user_score=0\n",
        "  for i in range(3):\n",
        "       rps_list=[\"rock\",\"paper\",\"scissors\"]\n",
        "       computer_choice=random.choice(rps_list)\n",
        "       print(\"type 1 or 2 or 3\\n1.rock\\n2.paper\\n3.scissors\")\n",
        "       user_input=int(input())\n",
        "       user_choice=rps_list[user_input-1]\n",
        "       print(computer_choice)\n",
        "       if c==u:\n",
        "         print(\"tie\")\n",
        "         print(\"comp_score=\",comp_score,\"user_score=\",user_score)\n",
        "       elif(c==\"rock\" and u==\"scissors\") or (c==\"paper\" and u==\"rock\") or (c==\"scissors\" and u==\"paper\"):\n",
        "         comp_score+=1\n",
        "         print(\"comp wins\")\n",
        "         print(\"comp_score=\",comp_score,\"user_score=\",user_score)\n",
        "       else:\n",
        "         user_score+=1\n",
        "         print(\"user wins\")\n",
        "         print(\"comp_score=\",comp_score,\"user_score=\",user_score)\n",
        "  if(comp_score>user_score):\n",
        "    print(\"COMPUTER WON\")\n",
        "  elif(comp_score==user_score):\n",
        "    print(\"TIE\")\n",
        "  else:\n",
        "    print(\"USER WON\")\n",
        "\n",
        "\n",
        " \n",
        "  \n",
        "\n",
        " \n",
        "rps_list=[\"rock\",\"paper\",\"scissors\"]\n",
        "computer_choice=random.choice(rps_list)\n",
        "print(\"type 1 to start\")\n",
        "user_input=int(input())\n",
        "user_choice=rps_list[user_input-1]\n",
        "rockpaperscissors(computer_choice, user_choice)"
      ]
    }
  ]
}